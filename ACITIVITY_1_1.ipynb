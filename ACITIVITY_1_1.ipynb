{
  "nbformat": 4,
  "nbformat_minor": 0,
  "metadata": {
    "colab": {
      "provenance": [],
      "authorship_tag": "ABX9TyNG59Vtiec1cew/Mf5Rthyp",
      "include_colab_link": true
    },
    "kernelspec": {
      "name": "python3",
      "display_name": "Python 3"
    },
    "language_info": {
      "name": "python"
    }
  },
  "cells": [
    {
      "cell_type": "markdown",
      "metadata": {
        "id": "view-in-github",
        "colab_type": "text"
      },
      "source": [
        "<a href=\"https://colab.research.google.com/github/doomzjh/cpe310_Dumapat/blob/main/ACITIVITY_1_1.ipynb\" target=\"_parent\"><img src=\"https://colab.research.google.com/assets/colab-badge.svg\" alt=\"Open In Colab\"/></a>"
      ]
    },
    {
      "cell_type": "code",
      "execution_count": null,
      "metadata": {
        "id": "_ozTGg4xoEuq"
      },
      "outputs": [],
      "source": []
    },
    {
      "cell_type": "code",
      "source": [
        "print(type(2+3j))\n",
        "print(type('Hello World'))\n",
        "print(type(\"Hello World\"))\n",
        "\n",
        "print(type(True))\n",
        "print(type(False))\n",
        "\n",
        "print(type([1,2,3,4,5]))\n",
        "print(type((1,2,3,4,5)))\n",
        "print(type({'name':'Jhowanalyn Dumapat'}))\n",
        "print(type(None))\n",
        "\n",
        "value = 5\n",
        "value2 = -6"
      ],
      "metadata": {
        "colab": {
          "base_uri": "https://localhost:8080/"
        },
        "id": "olkzCgqTxLoX",
        "outputId": "362c9176-1f05-42c9-c85d-cd467919a5b8"
      },
      "execution_count": null,
      "outputs": [
        {
          "output_type": "stream",
          "name": "stdout",
          "text": [
            "<class 'complex'>\n",
            "<class 'str'>\n",
            "<class 'str'>\n",
            "<class 'bool'>\n",
            "<class 'bool'>\n",
            "<class 'list'>\n",
            "<class 'tuple'>\n",
            "<class 'dict'>\n",
            "<class 'NoneType'>\n"
          ]
        }
      ]
    },
    {
      "cell_type": "code",
      "source": [
        "print(value+value2)"
      ],
      "metadata": {
        "colab": {
          "base_uri": "https://localhost:8080/"
        },
        "id": "VwWxsY2Z0ygO",
        "outputId": "62bd00ba-0ffd-4906-cfdb-f81677942b86"
      },
      "execution_count": null,
      "outputs": [
        {
          "output_type": "stream",
          "name": "stdout",
          "text": [
            "-1\n"
          ]
        }
      ]
    },
    {
      "cell_type": "code",
      "source": [
        "value, value2 =5.0,6\n",
        "print(value+value2)"
      ],
      "metadata": {
        "colab": {
          "base_uri": "https://localhost:8080/"
        },
        "id": "qoZtkRZl1A9_",
        "outputId": "08e73de2-2e5d-448e-ea2d-73e6e4b1be72"
      },
      "execution_count": null,
      "outputs": [
        {
          "output_type": "stream",
          "name": "stdout",
          "text": [
            "11.0\n"
          ]
        }
      ]
    },
    {
      "cell_type": "code",
      "source": [
        "value, value2 =-5,6.1\n",
        "print(value+value2)"
      ],
      "metadata": {
        "colab": {
          "base_uri": "https://localhost:8080/"
        },
        "id": "YCPsEnnw1Nt-",
        "outputId": "501f5095-e9b4-4ee1-e495-14485dc3457a"
      },
      "execution_count": null,
      "outputs": [
        {
          "output_type": "stream",
          "name": "stdout",
          "text": [
            "1.0999999999999996\n"
          ]
        }
      ]
    },
    {
      "cell_type": "code",
      "source": [
        "value, value2 =\"Hello\", 'world'\n",
        "print(value + \" \" + value2)"
      ],
      "metadata": {
        "colab": {
          "base_uri": "https://localhost:8080/"
        },
        "id": "1fwJkE4o1Tj_",
        "outputId": "192c6741-0f7b-4e83-ac1d-cfef52f6891f"
      },
      "execution_count": null,
      "outputs": [
        {
          "output_type": "stream",
          "name": "stdout",
          "text": [
            "Hello world\n"
          ]
        }
      ]
    },
    {
      "cell_type": "code",
      "source": [
        "value, value2 = [1,2,3],[4,5,6]\n",
        "print(value+value2)"
      ],
      "metadata": {
        "colab": {
          "base_uri": "https://localhost:8080/"
        },
        "id": "64QOix0611E5",
        "outputId": "eee0bfd8-0027-45d8-dcdd-6952ab692383"
      },
      "execution_count": null,
      "outputs": [
        {
          "output_type": "stream",
          "name": "stdout",
          "text": [
            "[1, 2, 3, 4, 5, 6]\n"
          ]
        }
      ]
    },
    {
      "cell_type": "code",
      "source": [
        "value, value2 = (1,2,3),(4,5,6)\n",
        "print(value+value2)"
      ],
      "metadata": {
        "colab": {
          "base_uri": "https://localhost:8080/"
        },
        "id": "rQuRTr3u1_Em",
        "outputId": "d72a3be3-3c83-4fa2-cfb2-5f32befe4999"
      },
      "execution_count": null,
      "outputs": [
        {
          "output_type": "stream",
          "name": "stdout",
          "text": [
            "(1, 2, 3, 4, 5, 6)\n"
          ]
        }
      ]
    },
    {
      "cell_type": "code",
      "source": [
        "value, value2 = {'name':'Jhowanalyn'}, {'age':19}\n",
        "print(value+value2)"
      ],
      "metadata": {
        "colab": {
          "base_uri": "https://localhost:8080/",
          "height": 162
        },
        "id": "0HKmal0F2IYu",
        "outputId": "4cb1d913-461d-4d1e-fd6e-d385f40321e7"
      },
      "execution_count": null,
      "outputs": [
        {
          "output_type": "error",
          "ename": "TypeError",
          "evalue": "unsupported operand type(s) for +: 'dict' and 'dict'",
          "traceback": [
            "\u001b[0;31m---------------------------------------------------------------------------\u001b[0m",
            "\u001b[0;31mTypeError\u001b[0m                                 Traceback (most recent call last)",
            "\u001b[0;32m<ipython-input-17-78790c1c0e9e>\u001b[0m in \u001b[0;36m<cell line: 0>\u001b[0;34m()\u001b[0m\n\u001b[1;32m      1\u001b[0m \u001b[0mvalue\u001b[0m\u001b[0;34m,\u001b[0m \u001b[0mvalue2\u001b[0m \u001b[0;34m=\u001b[0m \u001b[0;34m{\u001b[0m\u001b[0;34m'name'\u001b[0m\u001b[0;34m:\u001b[0m\u001b[0;34m'Jhowanalyn'\u001b[0m\u001b[0;34m}\u001b[0m\u001b[0;34m,\u001b[0m \u001b[0;34m{\u001b[0m\u001b[0;34m'age'\u001b[0m\u001b[0;34m:\u001b[0m\u001b[0;36m19\u001b[0m\u001b[0;34m}\u001b[0m\u001b[0;34m\u001b[0m\u001b[0;34m\u001b[0m\u001b[0m\n\u001b[0;32m----> 2\u001b[0;31m \u001b[0mprint\u001b[0m\u001b[0;34m(\u001b[0m\u001b[0mvalue\u001b[0m\u001b[0;34m+\u001b[0m\u001b[0mvalue2\u001b[0m\u001b[0;34m)\u001b[0m\u001b[0;34m\u001b[0m\u001b[0;34m\u001b[0m\u001b[0m\n\u001b[0m",
            "\u001b[0;31mTypeError\u001b[0m: unsupported operand type(s) for +: 'dict' and 'dict'"
          ]
        }
      ]
    },
    {
      "cell_type": "code",
      "source": [
        "value, value2 = 30, 4\n",
        "\n",
        "print(value*value2)\n",
        "print(value2**2)\n",
        "print(value2**3)\n",
        "print(value * value2 + value2**2 + 1)\n",
        "print(value/value2)\n",
        "print(value%value2)"
      ],
      "metadata": {
        "colab": {
          "base_uri": "https://localhost:8080/"
        },
        "id": "a91gl8YY2fS-",
        "outputId": "e0d9d8ab-9c9d-4dc2-ff44-ba5d170a571c"
      },
      "execution_count": null,
      "outputs": [
        {
          "output_type": "stream",
          "name": "stdout",
          "text": [
            "120\n",
            "16\n",
            "64\n",
            "137\n",
            "7.5\n",
            "2\n"
          ]
        }
      ]
    },
    {
      "cell_type": "code",
      "source": [
        "#Procedure 3\n",
        "print(input(\"What's your name?\"))"
      ],
      "metadata": {
        "colab": {
          "base_uri": "https://localhost:8080/"
        },
        "id": "cbrup_dT3HY2",
        "outputId": "a38f9639-33d4-4bd7-927c-0aad6915cb5e"
      },
      "execution_count": null,
      "outputs": [
        {
          "output_type": "stream",
          "name": "stdout",
          "text": [
            "What's your name?Jhowanalyn\n",
            "Jhowanalyn\n"
          ]
        }
      ]
    },
    {
      "cell_type": "code",
      "source": [
        "#Procedure 4\n",
        "\n",
        "name = input(\"Enter your name: \")\n",
        "weight = float(input(\"Enter your weight(kg): \"))\n",
        "height = float(input(\"Enter your height(m): \"))\n",
        "\n",
        "bmi = weight / height**2\n",
        "\n"
      ],
      "metadata": {
        "colab": {
          "base_uri": "https://localhost:8080/"
        },
        "id": "lxlJFyqy32SQ",
        "outputId": "a6fde483-3c60-47b5-ddcc-7dc037745c6a"
      },
      "execution_count": null,
      "outputs": [
        {
          "name": "stdout",
          "output_type": "stream",
          "text": [
            "Enter your name: Jhowanalyn\n",
            "Enter your weight(kg): 63\n",
            "Enter your height(m): 1.58\n"
          ]
        }
      ]
    },
    {
      "cell_type": "code",
      "source": [
        "name = input(\"name: \")\n",
        "weight = float(input(\"Enter your weight(kg): \"))\n",
        "height = float(input(\"Enter your height(m): \"))\n",
        "bmi = weight / height**2\n",
        "\n",
        "print(\"BMI: \" +str(bmi) )"
      ],
      "metadata": {
        "colab": {
          "base_uri": "https://localhost:8080/"
        },
        "id": "VdVtTiN-K93t",
        "outputId": "0127d197-be5c-42a5-c41f-474b56e43afa"
      },
      "execution_count": null,
      "outputs": [
        {
          "output_type": "stream",
          "name": "stdout",
          "text": [
            "name: Jhowanalyn\n",
            "Enter your weight(kg): 63\n",
            "Enter your height(m): 1.58\n",
            "BMI: 25.236340330075304\n"
          ]
        }
      ]
    },
    {
      "cell_type": "markdown",
      "source": [
        "**SUPPLEMENTARY ACTIVITY**"
      ],
      "metadata": {
        "id": "I2pBKEGtLhQq"
      }
    },
    {
      "cell_type": "markdown",
      "source": [
        "1. Write the Python equivalent code of the following C code:\n",
        "\n",
        "int main(){\n",
        "\n",
        "float base = 0, height = 0, area = 0;\n",
        "\n",
        "printf(“Enter the base of the triangle: “);\n",
        "\n",
        "scanf(“%f”, &base);\n",
        "\n",
        "printf(“Enter the height of the triangle: “);\n",
        "\n",
        "scanf(“%f”, &height);\n",
        "\n",
        "area = (1/2)baseheight;\n",
        "\n",
        "print(“The area of the triangle is %f”, area);\n",
        "\n",
        "}\n"
      ],
      "metadata": {
        "id": "VztaEEuxLkEq"
      }
    },
    {
      "cell_type": "code",
      "source": [
        "base = float(input(\"Enter the base of the triangle: \"))\n",
        "height = float(input(\"Enter the height of the triangle: \"))\n",
        "area = float(base*height/2)\n",
        "\n",
        "print(\"The area of the triangle is: \", area)"
      ],
      "metadata": {
        "colab": {
          "base_uri": "https://localhost:8080/"
        },
        "id": "ibNfDCjmLr3e",
        "outputId": "cdee69f3-fad9-4866-cbc9-6e7df771461c"
      },
      "execution_count": null,
      "outputs": [
        {
          "output_type": "stream",
          "name": "stdout",
          "text": [
            "Enter the base of the triangle: 0\n",
            "Enter the height of the triangle: 0\n",
            "The area of the triangle is:  0.0\n"
          ]
        }
      ]
    },
    {
      "cell_type": "markdown",
      "source": [
        "2.\n",
        "\n",
        "    Write a program that would convert Celsius to Fahrenheit given the formula: F = (C × 9/5) + 32\n",
        "\n",
        "    0°C = 32 °F\n",
        "\n",
        "    -20°C = -4 °F\n",
        "\n"
      ],
      "metadata": {
        "id": "vw8yMwOULwP8"
      }
    },
    {
      "cell_type": "code",
      "source": [
        "cels = float(input(\"Enter temperature in Celsius: \"))\n",
        "fah = float((cels * 9/5) + 32)\n",
        "\n",
        "print(\"The Fahrenheit is: \", fah, \"°F\")"
      ],
      "metadata": {
        "colab": {
          "base_uri": "https://localhost:8080/"
        },
        "id": "oY2ZEM3bL4ta",
        "outputId": "2a595bf3-cd80-462e-f1b6-2cfaaa8532d6"
      },
      "execution_count": null,
      "outputs": [
        {
          "output_type": "stream",
          "name": "stdout",
          "text": [
            "Enter temperature in Celsius: 0\n",
            "The Fahrenheit is:  32.0 °F\n"
          ]
        }
      ]
    },
    {
      "cell_type": "markdown",
      "source": [
        "3. Write a program that can determine the distance between two points given the coordinates using the formula:\n",
        "\n",
        "    𝒅 = √(𝒙𝟐 − 𝒙𝟏)^𝟐 + (𝒚𝟐 − 𝒚𝟏)^𝟐\n",
        "\n",
        "Hint/Rule: No library or package is needed to implement this equation.\n",
        "\n",
        "Example: x2, y2 = -3, 3 and x1, y1 = 2, 2 d = 5.099019514"
      ],
      "metadata": {
        "id": "L7goCRMIMC5y"
      }
    },
    {
      "cell_type": "code",
      "source": [
        "import math\n",
        "x1 = float(input(\"Enter the x1: \"))\n",
        "y1 = float(input(\"Enter the y1: \"))\n",
        "x2 = float(input(\"Enter the x2: \"))\n",
        "y2 = float(input(\"Enter the y2: \"))\n",
        "\n",
        "d = math.sqrt((x2-x1)**2 + (y2-y1)**2)\n",
        "\n",
        "print(\"The distance between two points given is:\", d)"
      ],
      "metadata": {
        "colab": {
          "base_uri": "https://localhost:8080/"
        },
        "id": "_JeWX3FCMG5i",
        "outputId": "7d09fb66-7f4e-4864-eed7-ea6b32b41c4f"
      },
      "execution_count": null,
      "outputs": [
        {
          "output_type": "stream",
          "name": "stdout",
          "text": [
            "Enter the x1: 2\n",
            "Enter the y1: 2\n",
            "Enter the x2: -3\n",
            "Enter the y2: 3\n",
            "The distance between two points given is: 5.0990195135927845\n"
          ]
        }
      ]
    },
    {
      "cell_type": "markdown",
      "source": [
        "\n",
        "\n",
        "Questions:\n",
        "\n",
        "1. Give one major difference in syntax that Python has with other languages such as C?\n",
        "\n",
        "The python does not use semicolons to end statements, while the C does.\n",
        "\n",
        "Also, the python relies on indentation to define blocks of code, whereas C uses curly braces.\n",
        "\n",
        "\n",
        "2. How does variable assignment differ in Python compared with other languages such as C?\n",
        "\n",
        "In Python, you do not need to declare the variable type explicitly; the python infers it automatically.\n",
        "\n",
        "In C, there is a specification to make before assigning a value.\n",
        "\n",
        "\n",
        "3. Try assigning variable names that start with numbers, and special characters. Is the assigning of variables that start with numbers accepted by Python? For Special Characters? Is there an exception for variables special characters?\n",
        "\n",
        "The python does not allow variable names to start with numbers or special characters.\n",
        "\n",
        "Although, the exception is the underscore, which can be used as the first character in a variable name.\n",
        "\n",
        "\n",
        "4. Do the assignment operators (+, -, , /, %, *) work for all data types? Why or Why not?\n",
        "\n",
        "I think no. It does not work for all data types. These operators are primarily for numerical data.\n",
        "For non-numeric types like strings, some operators like \"+\" for concatenation work, but others like \"**\" do not.\n",
        "\n",
        "5. How does the * operator differ from the ** operator?\n",
        "\n",
        "Based from the discussion, the \"*\" is used for multiplication, while the \"**\" operator is used for exponentiation.\n",
        "\n",
        "Conclusion\n",
        "\n",
        "Python is easier to use than languages like C because it does not need semicolons or type declarations. Variable names have rules, like not starting with numbers or most special characters, except for underscores. Operators like +, -, and * work for numbers but not always for other types. The * operator is for multiplication, while ** is for powers. Python's design makes it simple and clear to work with.\n"
      ],
      "metadata": {
        "id": "qqlLZO73MSFK"
      }
    }
  ]
}