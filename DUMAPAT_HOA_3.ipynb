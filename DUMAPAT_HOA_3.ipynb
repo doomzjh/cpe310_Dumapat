{
  "nbformat": 4,
  "nbformat_minor": 0,
  "metadata": {
    "colab": {
      "provenance": [],
      "authorship_tag": "ABX9TyOpQdbBYXCxfQDK90CNgogF",
      "include_colab_link": true
    },
    "kernelspec": {
      "name": "python3",
      "display_name": "Python 3"
    },
    "language_info": {
      "name": "python"
    }
  },
  "cells": [
    {
      "cell_type": "markdown",
      "metadata": {
        "id": "view-in-github",
        "colab_type": "text"
      },
      "source": [
        "<a href=\"https://colab.research.google.com/github/doomzjh/cpe310_Dumapat/blob/main/DUMAPAT_HOA_3.ipynb\" target=\"_parent\"><img src=\"https://colab.research.google.com/assets/colab-badge.svg\" alt=\"Open In Colab\"/></a>"
      ]
    },
    {
      "cell_type": "markdown",
      "source": [
        "**EXERCISE 1**"
      ],
      "metadata": {
        "id": "MGbqxiroLI17"
      }
    },
    {
      "cell_type": "code",
      "source": [
        "import random\n",
        "\n",
        "for i in range(10):\n",
        "    x = random.random()\n",
        "    print(x)\n"
      ],
      "metadata": {
        "colab": {
          "base_uri": "https://localhost:8080/"
        },
        "id": "DIKu8--J53r6",
        "outputId": "249a7f95-ac1b-473d-fc66-c09118c2036e"
      },
      "execution_count": null,
      "outputs": [
        {
          "output_type": "stream",
          "name": "stdout",
          "text": [
            "0.9550314390619702\n",
            "0.8357569542191917\n",
            "0.6696502531218739\n",
            "0.2320644477683821\n",
            "0.7653761746252902\n",
            "0.04134154366019327\n",
            "0.7977123471508442\n",
            "0.4840456110692881\n",
            "0.29801227583006373\n",
            "0.6804547994828473\n"
          ]
        }
      ]
    },
    {
      "cell_type": "markdown",
      "source": [
        "**EXERCISE 2**"
      ],
      "metadata": {
        "id": "oYJYqzvySB2_"
      }
    },
    {
      "cell_type": "code",
      "execution_count": null,
      "metadata": {
        "colab": {
          "base_uri": "https://localhost:8080/",
          "height": 211
        },
        "id": "h232MENQPFJs",
        "outputId": "2eee782b-3782-4cf8-b80d-4c24e17c1aa5"
      },
      "outputs": [
        {
          "output_type": "error",
          "ename": "NameError",
          "evalue": "name 'repeat_lyrics' is not defined",
          "traceback": [
            "\u001b[0;31m---------------------------------------------------------------------------\u001b[0m",
            "\u001b[0;31mNameError\u001b[0m                                 Traceback (most recent call last)",
            "\u001b[0;32m<ipython-input-1-a9e8b4bfa7eb>\u001b[0m in \u001b[0;36m<cell line: 0>\u001b[0;34m()\u001b[0m\n\u001b[0;32m----> 1\u001b[0;31m \u001b[0mrepeat_lyrics\u001b[0m\u001b[0;34m(\u001b[0m\u001b[0;34m)\u001b[0m\u001b[0;34m\u001b[0m\u001b[0;34m\u001b[0m\u001b[0m\n\u001b[0m\u001b[1;32m      2\u001b[0m \u001b[0;34m\u001b[0m\u001b[0m\n\u001b[1;32m      3\u001b[0m \u001b[0;32mdef\u001b[0m \u001b[0mprint_lyrics\u001b[0m\u001b[0;34m(\u001b[0m\u001b[0;34m)\u001b[0m\u001b[0;34m:\u001b[0m\u001b[0;34m\u001b[0m\u001b[0;34m\u001b[0m\u001b[0m\n\u001b[1;32m      4\u001b[0m     \u001b[0mprint\u001b[0m\u001b[0;34m(\u001b[0m\u001b[0;34m\"I'm a lumberjack, and I'm okay.\"\u001b[0m\u001b[0;34m)\u001b[0m\u001b[0;34m\u001b[0m\u001b[0;34m\u001b[0m\u001b[0m\n\u001b[1;32m      5\u001b[0m     \u001b[0mprint\u001b[0m\u001b[0;34m(\u001b[0m\u001b[0;34m'I sleep all night and I work all day.'\u001b[0m\u001b[0;34m)\u001b[0m\u001b[0;34m\u001b[0m\u001b[0;34m\u001b[0m\u001b[0m\n",
            "\u001b[0;31mNameError\u001b[0m: name 'repeat_lyrics' is not defined"
          ]
        }
      ],
      "source": [
        "repeat_lyrics()\n",
        "\n",
        "def print_lyrics():\n",
        "    print(\"I'm a lumberjack, and I'm okay.\")\n",
        "    print('I sleep all night and I work all day.')\n",
        "\n",
        "def repeat_lyrics():\n",
        "    print_lyrics()\n",
        "    print_lyrics()\n"
      ]
    },
    {
      "cell_type": "markdown",
      "source": [
        "**EXERCISE 3**"
      ],
      "metadata": {
        "id": "IK0iPK45SLp5"
      }
    },
    {
      "cell_type": "code",
      "source": [
        "def print_lyrics():\n",
        "    print(\"I'm a lumberjack, and I'm okay.\")\n",
        "    print('I sleep all night and I work all day.')\n",
        "\n",
        "def repeat_lyrics():\n",
        "    print_lyrics()\n",
        "    print_lyrics()\n",
        "\n",
        "repeat_lyrics()"
      ],
      "metadata": {
        "colab": {
          "base_uri": "https://localhost:8080/"
        },
        "id": "e3SDy44bSEnF",
        "outputId": "16f3795d-7009-4bca-af4c-9f3046d38ad7"
      },
      "execution_count": null,
      "outputs": [
        {
          "output_type": "stream",
          "name": "stdout",
          "text": [
            "I'm a lumberjack, and I'm okay.\n",
            "I sleep all night and I work all day.\n",
            "I'm a lumberjack, and I'm okay.\n",
            "I sleep all night and I work all day.\n"
          ]
        }
      ]
    },
    {
      "cell_type": "markdown",
      "source": [
        "**SUPPLEMENTARY ACTIVITY**"
      ],
      "metadata": {
        "id": "Ev1Y6K8T_ew1"
      }
    },
    {
      "cell_type": "markdown",
      "source": [
        "**Exercise 4: What is the purpose of the “def” keyword in Python?**\n",
        "\n",
        "D"
      ],
      "metadata": {
        "id": "ukBaKBdx_eoF"
      }
    },
    {
      "cell_type": "markdown",
      "source": [
        "**Exercise 5: What will the following Python program print out?**\n",
        "\n",
        "D"
      ],
      "metadata": {
        "id": "cG8QyrMq_r7g"
      }
    },
    {
      "cell_type": "code",
      "source": [
        "def fred():\n",
        "   print(\"Zap\")\n",
        "\n",
        "def jane():\n",
        "   print(\"ABC\")\n",
        "\n",
        "jane()\n",
        "fred()\n",
        "jane()\n"
      ],
      "metadata": {
        "colab": {
          "base_uri": "https://localhost:8080/"
        },
        "id": "YVBp5OH0_xQ_",
        "outputId": "98df5275-972d-4fd1-db52-99a7c960fe90"
      },
      "execution_count": null,
      "outputs": [
        {
          "output_type": "stream",
          "name": "stdout",
          "text": [
            "ABC\n",
            "Zap\n",
            "ABC\n"
          ]
        }
      ]
    },
    {
      "cell_type": "markdown",
      "source": [
        "Exercise 6:\n",
        "\n",
        "**A. Write a program to prompt the user for hours and rate per hour to compute gross pay.**\n",
        "\n",
        "Enter Hours: 35\n",
        "\n",
        "Enter Rate: 2.75\n",
        "\n",
        "Pay: 96.25\n"
      ],
      "metadata": {
        "id": "jV0UoYrv_72Q"
      }
    },
    {
      "cell_type": "code",
      "source": [
        "hRS = float(input(\"Enter Hours: \"))\n",
        "rAtE = float(input(\"Enter Rate: \"))\n",
        "Pay = hRS * rAtE\n",
        "print(\"Pay:\", Pay)\n"
      ],
      "metadata": {
        "colab": {
          "base_uri": "https://localhost:8080/"
        },
        "id": "tkRh0yn2AeJa",
        "outputId": "69a13141-d164-4bc1-e796-699644b55f80"
      },
      "execution_count": null,
      "outputs": [
        {
          "output_type": "stream",
          "name": "stdout",
          "text": [
            "Enter Hours: 35\n",
            "Enter Rate: 2.75\n",
            "Pay: 96.25\n"
          ]
        }
      ]
    },
    {
      "cell_type": "markdown",
      "source": [
        "Exercise 6:\n",
        "\n",
        "**B. Rewrite the pay computation code with time-and-a-half for overtime and create a function called computepay which takes two parameters (hours and rate).**\n",
        "\n",
        "Sample Function Call:\n",
        "\n",
        "Enter Hours: 45\n",
        "\n",
        "Enter Rate: 10\n",
        "\n",
        "Pay: 475.0"
      ],
      "metadata": {
        "id": "ksUyNKoXA2-b"
      }
    },
    {
      "cell_type": "code",
      "source": [
        "def computepay(hRS, rAtE):\n",
        "    overtime = max(0, hRS - 40)\n",
        "    return (hRS - overtime) * rAtE + overtime * rAtE * 1.5\n",
        "\n",
        "# Get user input\n",
        "hRS = float(input(\"Enter Hours: \"))\n",
        "rAtE = float(input(\"Enter Rate: \"))\n",
        "print(f\"Pay: {computepay(hRS, rAtE)}\")\n"
      ],
      "metadata": {
        "colab": {
          "base_uri": "https://localhost:8080/"
        },
        "id": "1NhIOLgABEdA",
        "outputId": "91c97d03-da13-45f0-9192-5c55f06575da"
      },
      "execution_count": null,
      "outputs": [
        {
          "output_type": "stream",
          "name": "stdout",
          "text": [
            "Enter Hours: 45\n",
            "Enter Rate: 10\n",
            "Pay: 475.0\n"
          ]
        }
      ]
    },
    {
      "cell_type": "markdown",
      "source": [
        "**Exercise 7: **\n",
        "\n",
        "A. Write a program to prompt for a score between 0.0 and 1.0. If the score is out of range, print an error message. If the score is between 0.0 and 1.0, print a grade using the following table:\n",
        "\n",
        "Score    Grade\n",
        ">= 0.9     A\n",
        ">= 0.8     B\n",
        ">= 0.7     C\n",
        ">= 0.6     D\n",
        " < 0.6     F\n"
      ],
      "metadata": {
        "id": "V4bwjxZiCw4B"
      }
    },
    {
      "cell_type": "code",
      "source": [
        "def compute_grade(score):\n",
        "    if score > 1.0 or score < 0.0:\n",
        "        return \"Bad score\"\n",
        "    if score >= 0.9:\n",
        "        return \"A\"\n",
        "    if score >= 0.8:\n",
        "        return \"B\"\n",
        "    if score >= 0.7:\n",
        "        return \"C\"\n",
        "    if score >= 0.6:\n",
        "        return \"D\"\n",
        "    return \"F\"\n",
        "\n",
        "# Get user input\n",
        "try:\n",
        "    score = float(input(\"Enter score: \"))\n",
        "    print(compute_grade(score))\n",
        "except ValueError:\n",
        "    print(\"Bad score\")"
      ],
      "metadata": {
        "colab": {
          "base_uri": "https://localhost:8080/"
        },
        "id": "VZAVdpLvDO9M",
        "outputId": "ac88088c-e249-4afb-be45-0ef5f5d51af6"
      },
      "execution_count": null,
      "outputs": [
        {
          "output_type": "stream",
          "name": "stdout",
          "text": [
            "Enter score: 0.5\n",
            "F\n"
          ]
        }
      ]
    },
    {
      "cell_type": "markdown",
      "source": [
        "*Exercise 7: *\n",
        "\n",
        "B. Rewrite the grade program code from 7A using a function called computegrade that takes a score as its parameter and returns a grade as a string.\n",
        "                "
      ],
      "metadata": {
        "id": "K0zhauTpIfGk"
      }
    },
    {
      "cell_type": "code",
      "source": [
        "def computegrade(score):\n",
        "    if score > 1.0 or score < 0.0:\n",
        "        return \"Bad score\"\n",
        "    elif score >= 0.9:\n",
        "        return \"A\"\n",
        "    elif score >= 0.8:\n",
        "        return \"B\"\n",
        "    elif score >= 0.7:\n",
        "        return \"C\"\n",
        "    elif score >= 0.6:\n",
        "        return \"D\"\n",
        "    else:\n",
        "        return \"F\"\n",
        "\n",
        "# Get user input\n",
        "try:\n",
        "    score = float(input(\"Enter score: \"))\n",
        "    print(computegrade(score))\n",
        "except ValueError:\n",
        "    print(\"Bad score\")"
      ],
      "metadata": {
        "colab": {
          "base_uri": "https://localhost:8080/"
        },
        "id": "CGiGrXb0IdfS",
        "outputId": "54fd2641-9b9a-43ab-e0f5-ca92e74a7da9"
      },
      "execution_count": null,
      "outputs": [
        {
          "output_type": "stream",
          "name": "stdout",
          "text": [
            "Enter score: perfect\n",
            "Bad score\n"
          ]
        }
      ]
    }
  ]
}