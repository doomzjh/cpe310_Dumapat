{
  "nbformat": 4,
  "nbformat_minor": 0,
  "metadata": {
    "colab": {
      "provenance": [],
      "authorship_tag": "ABX9TyOQmTdOZW7MBTx99OJPCf8q",
      "include_colab_link": true
    },
    "kernelspec": {
      "name": "python3",
      "display_name": "Python 3"
    },
    "language_info": {
      "name": "python"
    }
  },
  "cells": [
    {
      "cell_type": "markdown",
      "metadata": {
        "id": "view-in-github",
        "colab_type": "text"
      },
      "source": [
        "<a href=\"https://colab.research.google.com/github/doomzjh/cpe310_Dumapat/blob/main/Demo_HO2.ipynb\" target=\"_parent\"><img src=\"https://colab.research.google.com/assets/colab-badge.svg\" alt=\"Open In Colab\"/></a>"
      ]
    },
    {
      "cell_type": "code",
      "execution_count": null,
      "metadata": {
        "id": "CubRhs6FqgIo"
      },
      "outputs": [],
      "source": [
        "a =10\n",
        "b = 5"
      ]
    },
    {
      "cell_type": "code",
      "source": [
        "if a > b:\n",
        "  print(f\"{a}is greater than {b}.\")\n",
        "elif b > a:\n",
        "  print(f\"{b}is greater than {a}.\")\n",
        "else:\n",
        "  print(f\"{a} is not less than or greater than {b}.\")"
      ],
      "metadata": {
        "colab": {
          "base_uri": "https://localhost:8080/"
        },
        "id": "LgZC-OBVrVd3",
        "outputId": "885ad4a1-bae0-4794-b08d-f71af56e3b96"
      },
      "execution_count": null,
      "outputs": [
        {
          "output_type": "stream",
          "name": "stdout",
          "text": [
            "10is greater than 5.\n"
          ]
        }
      ]
    },
    {
      "cell_type": "code",
      "source": [
        "a = int(input(\"A: \"))\n",
        "b = int(input(\"B: \"))\n",
        "c = int(input(\"C: \"))\n",
        "\n",
        "# the algorithm must work as follows:\n",
        "# check if a is the biggest\n",
        "if a > b and a > c:\n",
        "  print(f\"A ({a}) is the largest value.\")\n",
        "elif b > a and b > c:\n",
        "  print(f\"B ({b}) is the largest value.\")\n"
      ],
      "metadata": {
        "colab": {
          "base_uri": "https://localhost:8080/"
        },
        "id": "U0AWA4egr9b4",
        "outputId": "55723d97-7e65-4d9f-d9cf-868938132bf5"
      },
      "execution_count": null,
      "outputs": [
        {
          "name": "stdout",
          "output_type": "stream",
          "text": [
            "A: 5\n",
            "B: 5\n",
            "C: 2\n"
          ]
        }
      ]
    },
    {
      "cell_type": "code",
      "source": [],
      "metadata": {
        "id": "QuGPwj_p3O4o"
      },
      "execution_count": null,
      "outputs": []
    },
    {
      "cell_type": "code",
      "source": [
        "for i in range (0,10):\n",
        "  print(i+1)"
      ],
      "metadata": {
        "colab": {
          "base_uri": "https://localhost:8080/"
        },
        "id": "PsOGf97UsbAv",
        "outputId": "afda35f2-511f-4c0d-ec50-7f9cf9991a26"
      },
      "execution_count": null,
      "outputs": [
        {
          "output_type": "stream",
          "name": "stdout",
          "text": [
            "1\n",
            "2\n",
            "3\n",
            "4\n",
            "5\n",
            "6\n",
            "7\n",
            "8\n",
            "9\n",
            "10\n"
          ]
        }
      ]
    },
    {
      "cell_type": "code",
      "source": [
        "i = 1 #initialize\n",
        "while i <=10:\n",
        "  print(i)\n",
        "  i += 1"
      ],
      "metadata": {
        "colab": {
          "base_uri": "https://localhost:8080/"
        },
        "id": "7LcLtPLuuOFH",
        "outputId": "5fd331ea-f958-4141-c364-674cdfb4a408"
      },
      "execution_count": null,
      "outputs": [
        {
          "output_type": "stream",
          "name": "stdout",
          "text": [
            "1\n",
            "2\n",
            "3\n",
            "4\n",
            "5\n",
            "6\n",
            "7\n",
            "8\n",
            "9\n",
            "10\n"
          ]
        }
      ]
    },
    {
      "cell_type": "code",
      "source": [
        "students = [\"Jhowa\", \"Jhowana\", \"Jhowanalyn\"]\n",
        "print(len(students))\n",
        "\n",
        "#will only print \"Jhowa\"\n",
        "for i in range(len(students)):\n",
        "  if students[i] == \"Jhowana\":\n",
        "    break\n",
        "  print(students[i])\n",
        "\n",
        "#will not print \"Jhowana\"\n",
        "for i in range(len(students)):\n",
        "  if students[i] == \"Jhowana\":\n",
        "    continue\n",
        "  print(students[i])"
      ],
      "metadata": {
        "colab": {
          "base_uri": "https://localhost:8080/"
        },
        "id": "alRWJocxuotG",
        "outputId": "e5618f32-a785-4d49-f037-d96eda7007ac"
      },
      "execution_count": null,
      "outputs": [
        {
          "output_type": "stream",
          "name": "stdout",
          "text": [
            "3\n",
            "Jhowa\n",
            "Jhowa\n",
            "Jhowanalyn\n"
          ]
        }
      ]
    },
    {
      "cell_type": "code",
      "source": [
        "print(list(range(len(students))))"
      ],
      "metadata": {
        "colab": {
          "base_uri": "https://localhost:8080/"
        },
        "id": "GMcSXS1kvGg-",
        "outputId": "c5eba65b-4e22-480c-dc1e-4b44d12acb25"
      },
      "execution_count": null,
      "outputs": [
        {
          "output_type": "stream",
          "name": "stdout",
          "text": [
            "[0, 1, 2]\n"
          ]
        }
      ]
    },
    {
      "cell_type": "code",
      "source": [],
      "metadata": {
        "id": "2xJBHa-5-yvb"
      },
      "execution_count": null,
      "outputs": []
    },
    {
      "cell_type": "code",
      "source": [
        "number = int(input(\"Enter your number --> \"))\n",
        "n = int(input(\"Test divisibility by --> \"))\n",
        "\n",
        "i = number%n\n",
        "\n",
        "if i != 0:\n",
        "    print (\"The number \",number,\" is not divisible by \",n,\"\\n\")\n"
      ],
      "metadata": {
        "colab": {
          "base_uri": "https://localhost:8080/"
        },
        "id": "n_QKpVpk7B0d",
        "outputId": "e49c718c-9c47-4c28-caae-cf0a92b916f2"
      },
      "execution_count": null,
      "outputs": [
        {
          "output_type": "stream",
          "name": "stdout",
          "text": [
            "Enter your number --> 5\n",
            "Test divisibility by --> 2\n",
            "The number  5  is not divisible by  2 \n",
            "\n"
          ]
        }
      ]
    },
    {
      "cell_type": "code",
      "source": [
        "hidden = \"Mypasscode\"\n",
        "password = input(\"Enter your password: \")\n",
        "\n",
        "if password == hidden:\n",
        "    print (\"You entered the right password\\n\")\n",
        "else:\n",
        "    print (\"Wrong password!!\\n\")\n"
      ],
      "metadata": {
        "colab": {
          "base_uri": "https://localhost:8080/"
        },
        "id": "YykRaZIxAi47",
        "outputId": "410b9776-7a65-4035-b36b-251235a0bb8a"
      },
      "execution_count": null,
      "outputs": [
        {
          "output_type": "stream",
          "name": "stdout",
          "text": [
            "Enter your password: Mypasscode\n",
            "You entered the right password\n",
            "\n"
          ]
        }
      ]
    },
    {
      "cell_type": "code",
      "source": [
        "names = [\"John\", \"Jane\", \"Smith\"]\n",
        "j = 0\n",
        "for name in names:\n",
        "    j += 1\n",
        "    print (\"The name number\", j, \"in the list is\", name)\n"
      ],
      "metadata": {
        "colab": {
          "base_uri": "https://localhost:8080/"
        },
        "id": "27GcdGv9BqbE",
        "outputId": "d5e764f7-55fd-4537-d6b2-3eb8eabaa773"
      },
      "execution_count": null,
      "outputs": [
        {
          "output_type": "stream",
          "name": "stdout",
          "text": [
            "The name number 1 in the list is John\n",
            "The name number 2 in the list is Jane\n",
            "The name number 3 in the list is Smith\n"
          ]
        }
      ]
    },
    {
      "cell_type": "code",
      "source": [
        "N = int(input(\"Enter the last integer considered --> \"))\n",
        "Sum = 0\n",
        "for i in range(0, N+1, 1):\n",
        "    Sum += i**2\n",
        "print (\"The sum of the squares between 0 and\", N, \"is\", Sum)\n"
      ],
      "metadata": {
        "colab": {
          "base_uri": "https://localhost:8080/"
        },
        "id": "QePC8r8cDEJD",
        "outputId": "6f5dc9bd-355a-4e8e-e21d-75ecc03bc3ed"
      },
      "execution_count": null,
      "outputs": [
        {
          "output_type": "stream",
          "name": "stdout",
          "text": [
            "Enter the last integer considered --> 6\n",
            "The sum of the squares between 0 and 6 is 91\n"
          ]
        }
      ]
    },
    {
      "cell_type": "code",
      "source": [
        "N = int(input(\"Enter N --> \"))\n",
        "print (\"Counting numbers from 0 to\", N, \"\\n\")\n",
        "i = 0\n",
        "while i < N+1:\n",
        "    print(i, \"\\n\")\n",
        "    i += 1\n"
      ],
      "metadata": {
        "colab": {
          "base_uri": "https://localhost:8080/"
        },
        "id": "ewfj8mtwDhUj",
        "outputId": "7b67bedc-c216-436b-c75f-6a2e04db0f50"
      },
      "execution_count": null,
      "outputs": [
        {
          "output_type": "stream",
          "name": "stdout",
          "text": [
            "Enter N --> 5\n",
            "Counting numbers from 0 to 5 \n",
            "\n",
            "0 \n",
            "\n",
            "1 \n",
            "\n",
            "2 \n",
            "\n",
            "3 \n",
            "\n",
            "4 \n",
            "\n",
            "5 \n",
            "\n"
          ]
        }
      ]
    },
    {
      "cell_type": "code",
      "source": [
        "N = int(input(\"Enter N --> \"))      # Input N\n",
        "for i in range(0, N+1, 1):          # Loop from 0 to N (inclusive)\n",
        "    if i**2 == N:                   # Check if i^2 == N\n",
        "        break                       # If so, stop the loop\n",
        "    else:\n",
        "        if i % 5 == 0:              # If i is a multiple of 5\n",
        "            continue                # Skip to the next iteration\n",
        "        print(i, \"\\n\")\n"
      ],
      "metadata": {
        "colab": {
          "base_uri": "https://localhost:8080/"
        },
        "id": "3NuypOnSEBSP",
        "outputId": "b0f97780-25c2-44c3-9e2b-f408dcd5b888"
      },
      "execution_count": null,
      "outputs": [
        {
          "output_type": "stream",
          "name": "stdout",
          "text": [
            "Enter N --> 5\n",
            "1 \n",
            "\n",
            "2 \n",
            "\n",
            "3 \n",
            "\n",
            "4 \n",
            "\n"
          ]
        }
      ]
    }
  ]
}